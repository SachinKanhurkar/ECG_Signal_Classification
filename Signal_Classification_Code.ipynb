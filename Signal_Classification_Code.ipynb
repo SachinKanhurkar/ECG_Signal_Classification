{
 "cells": [
  {
   "cell_type": "markdown",
   "id": "d42ba08d",
   "metadata": {},
   "source": [
    "### A.Objective: \n",
    "### 1. Create samples images from the input signal images for different classes.\n",
    "### 2. Train the AlexNet model for images\n",
    "### 3. Test the model for unseen images to classify the signals\n",
    "\n",
    "### B. Future Scope: \n",
    "### 1. Reduce the unbalance data and retrain the model\n",
    "### 2. Use high computational power if availbale for include the all the data and train the model to get high efficient robust model.\n"
   ]
  },
  {
   "cell_type": "code",
   "execution_count": 20,
   "id": "30b5fdd2",
   "metadata": {},
   "outputs": [],
   "source": [
    "import pandas as pd\n",
    "import matplotlib.pyplot as plt\n",
    "import os\n",
    "import numpy as np\n",
    "\n",
    "import wfdb\n",
    "\n",
    "import tensorflow as tf\n",
    "from tensorflow.keras import layers, models, optimizers\n",
    "from tensorflow.keras.preprocessing.image import ImageDataGenerator\n",
    "from sklearn.model_selection import train_test_split\n",
    "from PIL import Image\n",
    "from sklearn.preprocessing import LabelEncoder"
   ]
  },
  {
   "cell_type": "code",
   "execution_count": null,
   "id": "f80022ee",
   "metadata": {},
   "outputs": [],
   "source": [
    "# pip install wfdb"
   ]
  },
  {
   "cell_type": "code",
   "execution_count": 5,
   "id": "c6cd6ca1",
   "metadata": {},
   "outputs": [
    {
     "data": {
      "text/html": [
       "<div>\n",
       "<style scoped>\n",
       "    .dataframe tbody tr th:only-of-type {\n",
       "        vertical-align: middle;\n",
       "    }\n",
       "\n",
       "    .dataframe tbody tr th {\n",
       "        vertical-align: top;\n",
       "    }\n",
       "\n",
       "    .dataframe thead th {\n",
       "        text-align: right;\n",
       "    }\n",
       "</style>\n",
       "<table border=\"1\" class=\"dataframe\">\n",
       "  <thead>\n",
       "    <tr style=\"text-align: right;\">\n",
       "      <th></th>\n",
       "      <th>RecordName</th>\n",
       "      <th>Subject ID</th>\n",
       "      <th>Record Duration (min)</th>\n",
       "      <th>Age (years)</th>\n",
       "      <th>Gender</th>\n",
       "      <th>Recording Scenario</th>\n",
       "      <th>Num Channels</th>\n",
       "      <th>ECG Notes</th>\n",
       "      <th>PCG Notes</th>\n",
       "      <th>PCG2 Notes</th>\n",
       "      <th>AUX1 Notes</th>\n",
       "      <th>AUX2 Notes</th>\n",
       "      <th>Database Housekeeping</th>\n",
       "      <th>Tag</th>\n",
       "      <th>Label</th>\n",
       "    </tr>\n",
       "  </thead>\n",
       "  <tbody>\n",
       "    <tr>\n",
       "      <th>0</th>\n",
       "      <td>ECGPCG0001</td>\n",
       "      <td>S023</td>\n",
       "      <td>30.0</td>\n",
       "      <td>NaN</td>\n",
       "      <td>Male</td>\n",
       "      <td>Exercise: pedaling a stationary bicycle</td>\n",
       "      <td>2</td>\n",
       "      <td>Good</td>\n",
       "      <td>Good</td>\n",
       "      <td>NaN</td>\n",
       "      <td>NaN</td>\n",
       "      <td>NaN</td>\n",
       "      <td>Replaced file ID 01</td>\n",
       "      <td>Stationary_Bicycle</td>\n",
       "      <td>4</td>\n",
       "    </tr>\n",
       "    <tr>\n",
       "      <th>1</th>\n",
       "      <td>ECGPCG0002</td>\n",
       "      <td>S024</td>\n",
       "      <td>30.0</td>\n",
       "      <td>NaN</td>\n",
       "      <td>Male</td>\n",
       "      <td>Exercise: pedaling a stationary bicycle</td>\n",
       "      <td>2</td>\n",
       "      <td>Good; occasional saturation</td>\n",
       "      <td>Good</td>\n",
       "      <td>NaN</td>\n",
       "      <td>NaN</td>\n",
       "      <td>NaN</td>\n",
       "      <td>Replaced file ID 02</td>\n",
       "      <td>Stationary_Bicycle</td>\n",
       "      <td>4</td>\n",
       "    </tr>\n",
       "    <tr>\n",
       "      <th>2</th>\n",
       "      <td>ECGPCG0003</td>\n",
       "      <td>S003</td>\n",
       "      <td>0.5</td>\n",
       "      <td>28.0</td>\n",
       "      <td>Male</td>\n",
       "      <td>Rest: sitting on armchair</td>\n",
       "      <td>2</td>\n",
       "      <td>Good</td>\n",
       "      <td>Good</td>\n",
       "      <td>NaN</td>\n",
       "      <td>NaN</td>\n",
       "      <td>NaN</td>\n",
       "      <td>Replaced file ID 03 (PG)</td>\n",
       "      <td>Sitting_on_Armchair</td>\n",
       "      <td>2</td>\n",
       "    </tr>\n",
       "    <tr>\n",
       "      <th>3</th>\n",
       "      <td>ECGPCG0004</td>\n",
       "      <td>S004</td>\n",
       "      <td>0.5</td>\n",
       "      <td>26.0</td>\n",
       "      <td>Male</td>\n",
       "      <td>Rest: sitting on armchair</td>\n",
       "      <td>5</td>\n",
       "      <td>Good</td>\n",
       "      <td>Occasional burst powerline noise</td>\n",
       "      <td>Quantization noise level</td>\n",
       "      <td>Quantization noise level</td>\n",
       "      <td>Quantization noise level</td>\n",
       "      <td>NaN</td>\n",
       "      <td>Sitting_on_Armchair</td>\n",
       "      <td>2</td>\n",
       "    </tr>\n",
       "    <tr>\n",
       "      <th>4</th>\n",
       "      <td>ECGPCG0005</td>\n",
       "      <td>S005</td>\n",
       "      <td>0.5</td>\n",
       "      <td>23.0</td>\n",
       "      <td>Male</td>\n",
       "      <td>Rest: sitting on armchair</td>\n",
       "      <td>5</td>\n",
       "      <td>Good</td>\n",
       "      <td>Occasional burst powerline noise</td>\n",
       "      <td>Quantization noise level</td>\n",
       "      <td>Quantization noise level</td>\n",
       "      <td>Quantization noise level</td>\n",
       "      <td>NaN</td>\n",
       "      <td>Sitting_on_Armchair</td>\n",
       "      <td>2</td>\n",
       "    </tr>\n",
       "  </tbody>\n",
       "</table>\n",
       "</div>"
      ],
      "text/plain": [
       "   RecordName Subject ID  Record Duration (min)  Age (years) Gender  \\\n",
       "0  ECGPCG0001       S023                   30.0          NaN   Male   \n",
       "1  ECGPCG0002       S024                   30.0          NaN   Male   \n",
       "2  ECGPCG0003       S003                    0.5         28.0   Male   \n",
       "3  ECGPCG0004       S004                    0.5         26.0   Male   \n",
       "4  ECGPCG0005       S005                    0.5         23.0   Male   \n",
       "\n",
       "                        Recording Scenario  Num Channels  \\\n",
       "0  Exercise: pedaling a stationary bicycle             2   \n",
       "1  Exercise: pedaling a stationary bicycle             2   \n",
       "2                Rest: sitting on armchair             2   \n",
       "3                Rest: sitting on armchair             5   \n",
       "4                Rest: sitting on armchair             5   \n",
       "\n",
       "                     ECG Notes                         PCG Notes  \\\n",
       "0                         Good                              Good   \n",
       "1  Good; occasional saturation                              Good   \n",
       "2                         Good                              Good   \n",
       "3                         Good  Occasional burst powerline noise   \n",
       "4                         Good  Occasional burst powerline noise   \n",
       "\n",
       "                  PCG2 Notes                 AUX1 Notes  \\\n",
       "0                        NaN                        NaN   \n",
       "1                        NaN                        NaN   \n",
       "2                        NaN                        NaN   \n",
       "3  Quantization noise level   Quantization noise level    \n",
       "4  Quantization noise level   Quantization noise level    \n",
       "\n",
       "                  AUX2 Notes     Database Housekeeping                  Tag  \\\n",
       "0                        NaN       Replaced file ID 01   Stationary_Bicycle   \n",
       "1                        NaN       Replaced file ID 02   Stationary_Bicycle   \n",
       "2                        NaN  Replaced file ID 03 (PG)  Sitting_on_Armchair   \n",
       "3  Quantization noise level                        NaN  Sitting_on_Armchair   \n",
       "4  Quantization noise level                        NaN  Sitting_on_Armchair   \n",
       "\n",
       "   Label  \n",
       "0      4  \n",
       "1      4  \n",
       "2      2  \n",
       "3      2  \n",
       "4      2  "
      ]
     },
     "execution_count": 5,
     "metadata": {},
     "output_type": "execute_result"
    }
   ],
   "source": [
    "d1=pd.read_csv('ECGPCGSpreadsheet_tagged.csv')\n",
    "d1.head()"
   ]
  },
  {
   "cell_type": "code",
   "execution_count": 6,
   "id": "036f6fce",
   "metadata": {},
   "outputs": [
    {
     "name": "stdout",
     "output_type": "stream",
     "text": [
      "['Stationary_Bicycle' 'Sitting_on_Armchair' 'Laying_on_Bed' 'Slow_Walk'\n",
      " 'Tradmill' 'Walking_constant_speed' 'Bicycle_stress_Test']\n"
     ]
    }
   ],
   "source": [
    "unique_tags=d1['Tag'].unique()\n",
    "print(unique_tags)"
   ]
  },
  {
   "cell_type": "markdown",
   "id": "fccf403f",
   "metadata": {},
   "source": [
    "### Creating samples images based on the 69 signals (Currently only 3 signal files are taken as input)"
   ]
  },
  {
   "cell_type": "code",
   "execution_count": 10,
   "id": "95165af6",
   "metadata": {},
   "outputs": [
    {
     "ename": "FileNotFoundError",
     "evalue": "[Errno 2] No such file or directory: 'C:\\\\DataScience_StudyMaterial\\\\ECG_Signal_Project\\\\Data\\\\ECGPCG0004.hea'",
     "output_type": "error",
     "traceback": [
      "\u001b[1;31m---------------------------------------------------------------------------\u001b[0m",
      "\u001b[1;31mFileNotFoundError\u001b[0m                         Traceback (most recent call last)",
      "Cell \u001b[1;32mIn[10], line 9\u001b[0m\n\u001b[0;32m      6\u001b[0m base_directory \u001b[38;5;241m=\u001b[39m \u001b[38;5;124mr\u001b[39m\u001b[38;5;124m'\u001b[39m\u001b[38;5;124mC:\u001b[39m\u001b[38;5;124m\\\u001b[39m\u001b[38;5;124mDataScience_StudyMaterial\u001b[39m\u001b[38;5;124m\\\u001b[39m\u001b[38;5;124mECG_Signal_Project\u001b[39m\u001b[38;5;124m\\\u001b[39m\u001b[38;5;124mData\u001b[39m\u001b[38;5;124m'\u001b[39m\n\u001b[0;32m      7\u001b[0m file_path \u001b[38;5;241m=\u001b[39m os\u001b[38;5;241m.\u001b[39mpath\u001b[38;5;241m.\u001b[39mjoin(base_directory, file_name)\n\u001b[1;32m----> 9\u001b[0m record_total \u001b[38;5;241m=\u001b[39m \u001b[43mwfdb\u001b[49m\u001b[38;5;241;43m.\u001b[39;49m\u001b[43mrdrecord\u001b[49m\u001b[43m(\u001b[49m\u001b[43mfile_path\u001b[49m\u001b[43m)\u001b[49m\n\u001b[0;32m     10\u001b[0m df_1 \u001b[38;5;241m=\u001b[39m record_total\u001b[38;5;241m.\u001b[39mto_dataframe()\n\u001b[0;32m     11\u001b[0m df_reset_1 \u001b[38;5;241m=\u001b[39m df_1\u001b[38;5;241m.\u001b[39mreset_index(drop\u001b[38;5;241m=\u001b[39m\u001b[38;5;28;01mTrue\u001b[39;00m)\n",
      "File \u001b[1;32m~\\anaconda3\\envs\\tf\\lib\\site-packages\\wfdb\\io\\record.py:2029\u001b[0m, in \u001b[0;36mrdrecord\u001b[1;34m(record_name, sampfrom, sampto, channels, physical, pn_dir, m2s, smooth_frames, ignore_skew, return_res, force_channels, channel_names, warn_empty)\u001b[0m\n\u001b[0;32m   2024\u001b[0m     dir_list \u001b[38;5;241m=\u001b[39m pn_dir\u001b[38;5;241m.\u001b[39msplit(\u001b[38;5;124m\"\u001b[39m\u001b[38;5;124m/\u001b[39m\u001b[38;5;124m\"\u001b[39m)\n\u001b[0;32m   2025\u001b[0m     pn_dir \u001b[38;5;241m=\u001b[39m posixpath\u001b[38;5;241m.\u001b[39mjoin(\n\u001b[0;32m   2026\u001b[0m         dir_list[\u001b[38;5;241m0\u001b[39m], download\u001b[38;5;241m.\u001b[39mget_version(dir_list[\u001b[38;5;241m0\u001b[39m]), \u001b[38;5;241m*\u001b[39mdir_list[\u001b[38;5;241m1\u001b[39m:]\n\u001b[0;32m   2027\u001b[0m     )\n\u001b[1;32m-> 2029\u001b[0m record \u001b[38;5;241m=\u001b[39m \u001b[43mrdheader\u001b[49m\u001b[43m(\u001b[49m\u001b[43mrecord_name\u001b[49m\u001b[43m,\u001b[49m\u001b[43m \u001b[49m\u001b[43mpn_dir\u001b[49m\u001b[38;5;241;43m=\u001b[39;49m\u001b[43mpn_dir\u001b[49m\u001b[43m,\u001b[49m\u001b[43m \u001b[49m\u001b[43mrd_segments\u001b[49m\u001b[38;5;241;43m=\u001b[39;49m\u001b[38;5;28;43;01mFalse\u001b[39;49;00m\u001b[43m)\u001b[49m\n\u001b[0;32m   2031\u001b[0m \u001b[38;5;66;03m# Set defaults for sampto and channels input variables\u001b[39;00m\n\u001b[0;32m   2032\u001b[0m \u001b[38;5;28;01mif\u001b[39;00m sampto \u001b[38;5;129;01mis\u001b[39;00m \u001b[38;5;28;01mNone\u001b[39;00m:\n\u001b[0;32m   2033\u001b[0m     \u001b[38;5;66;03m# If the header does not contain the signal length, figure it\u001b[39;00m\n\u001b[0;32m   2034\u001b[0m     \u001b[38;5;66;03m# out from the first dat file. This is only possible for single\u001b[39;00m\n\u001b[0;32m   2035\u001b[0m     \u001b[38;5;66;03m# segment records. If there are no signals, sig_len is 0.\u001b[39;00m\n",
      "File \u001b[1;32m~\\anaconda3\\envs\\tf\\lib\\site-packages\\wfdb\\io\\record.py:1839\u001b[0m, in \u001b[0;36mrdheader\u001b[1;34m(record_name, pn_dir, rd_segments)\u001b[0m\n\u001b[0;32m   1837\u001b[0m file_name \u001b[38;5;241m=\u001b[39m \u001b[38;5;124mf\u001b[39m\u001b[38;5;124m\"\u001b[39m\u001b[38;5;132;01m{\u001b[39;00mbase_record_name\u001b[38;5;132;01m}\u001b[39;00m\u001b[38;5;124m.hea\u001b[39m\u001b[38;5;124m\"\u001b[39m\n\u001b[0;32m   1838\u001b[0m \u001b[38;5;28;01mif\u001b[39;00m pn_dir \u001b[38;5;129;01mis\u001b[39;00m \u001b[38;5;28;01mNone\u001b[39;00m:\n\u001b[1;32m-> 1839\u001b[0m     \u001b[38;5;28;01mwith\u001b[39;00m \u001b[38;5;28;43mopen\u001b[39;49m\u001b[43m(\u001b[49m\n\u001b[0;32m   1840\u001b[0m \u001b[43m        \u001b[49m\u001b[43mos\u001b[49m\u001b[38;5;241;43m.\u001b[39;49m\u001b[43mpath\u001b[49m\u001b[38;5;241;43m.\u001b[39;49m\u001b[43mjoin\u001b[49m\u001b[43m(\u001b[49m\u001b[43mdir_name\u001b[49m\u001b[43m,\u001b[49m\u001b[43m \u001b[49m\u001b[43mfile_name\u001b[49m\u001b[43m)\u001b[49m\u001b[43m,\u001b[49m\n\u001b[0;32m   1841\u001b[0m \u001b[43m        \u001b[49m\u001b[38;5;124;43m\"\u001b[39;49m\u001b[38;5;124;43mr\u001b[39;49m\u001b[38;5;124;43m\"\u001b[39;49m\u001b[43m,\u001b[49m\n\u001b[0;32m   1842\u001b[0m \u001b[43m        \u001b[49m\u001b[43mencoding\u001b[49m\u001b[38;5;241;43m=\u001b[39;49m\u001b[38;5;124;43m\"\u001b[39;49m\u001b[38;5;124;43mascii\u001b[39;49m\u001b[38;5;124;43m\"\u001b[39;49m\u001b[43m,\u001b[49m\n\u001b[0;32m   1843\u001b[0m \u001b[43m        \u001b[49m\u001b[43merrors\u001b[49m\u001b[38;5;241;43m=\u001b[39;49m\u001b[38;5;124;43m\"\u001b[39;49m\u001b[38;5;124;43mignore\u001b[39;49m\u001b[38;5;124;43m\"\u001b[39;49m\u001b[43m,\u001b[49m\n\u001b[0;32m   1844\u001b[0m \u001b[43m    \u001b[49m\u001b[43m)\u001b[49m \u001b[38;5;28;01mas\u001b[39;00m f:\n\u001b[0;32m   1845\u001b[0m         header_content \u001b[38;5;241m=\u001b[39m f\u001b[38;5;241m.\u001b[39mread()\n\u001b[0;32m   1846\u001b[0m \u001b[38;5;28;01melse\u001b[39;00m:\n",
      "\u001b[1;31mFileNotFoundError\u001b[0m: [Errno 2] No such file or directory: 'C:\\\\DataScience_StudyMaterial\\\\ECG_Signal_Project\\\\Data\\\\ECGPCG0004.hea'"
     ]
    }
   ],
   "source": [
    "image_paths = []\n",
    "labels = []\n",
    "save_directory = r'C:\\DataScience_StudyMaterial\\ECG_Signal_Project\\Images'\n",
    "\n",
    "for file_name in d1['RecordName']:\n",
    "    base_directory = r'C:\\DataScience_StudyMaterial\\ECG_Signal_Project\\Data'\n",
    "    file_path = os.path.join(base_directory, file_name)\n",
    "\n",
    "    record_total = wfdb.rdrecord(file_path)\n",
    "    df_1 = record_total.to_dataframe()\n",
    "    df_reset_1 = df_1.reset_index(drop=True)\n",
    "    len_df = len(df_reset_1)\n",
    "    \n",
    "    label = d1.loc[d1['RecordName'] == file_name, 'Tag'].values[0]\n",
    "    count =0\n",
    "    for i in range(len_df // 10000):\n",
    "        record = wfdb.rdrecord(file_path, sampfrom=i * 10000, sampto=(i + 1) * 10000)\n",
    "        df = record.to_dataframe()\n",
    "        df_reset = df.reset_index(drop=True)\n",
    "\n",
    "        plt.figure(figsize=(12, 6))\n",
    "        plt.plot(df_reset.index, df_reset.values)\n",
    "        plt.xlabel('Sample Number')\n",
    "        plt.ylabel('Amplitude')\n",
    "\n",
    "        # Define the label and save path\n",
    "        label = label  # Replace with actual label or a method to assign labels\n",
    "        image_filename = f'{file_name}_segment_{count}_{label}.png'\n",
    "        save_path = os.path.join(save_directory, image_filename)\n",
    "        count=count+1\n",
    "        # Save the figure as an image\n",
    "        plt.savefig(save_path)\n",
    "        plt.close()\n",
    "\n",
    "        # Append the image path and label to their respective lists\n",
    "        image_paths.append(save_path)\n",
    "        with open(\"image_paths.txt\", \"w\") as file:\n",
    "            file.write(str(image_paths))\n",
    "            \n",
    "        labels.append(label)\n",
    "        with open(\"labels.txt\", \"w\") as file:\n",
    "            file.write(str(labels))\n"
   ]
  },
  {
   "cell_type": "markdown",
   "id": "365a77ef",
   "metadata": {},
   "source": [
    "### Visualize Sample Images"
   ]
  },
  {
   "cell_type": "code",
   "execution_count": 12,
   "id": "64d87659",
   "metadata": {},
   "outputs": [
    {
     "name": "stdout",
     "output_type": "stream",
     "text": [
      "Visualizing Training Images:\n"
     ]
    },
    {
     "data": {
      "image/png": "[encoded data removed]",
      "text/plain": [
       "<Figure size 2000x1000 with 5 Axes>"
      ]
     },
     "metadata": {},
     "output_type": "display_data"
    }
   ],
   "source": [
    "def visualize_images(image_paths, labels, num_images=10):\n",
    "    indices = np.random.choice(len(image_paths), num_images, replace=False)\n",
    "    \n",
    "    plt.figure(figsize=(20, 10))\n",
    "    \n",
    "    for i, idx in enumerate(indices):\n",
    "        img_path = image_paths[idx]\n",
    "        label = labels[idx]\n",
    "        \n",
    "        # Load and display the image\n",
    "        img = Image.open(img_path)\n",
    "        plt.subplot(1, num_images, i + 1)\n",
    "        plt.imshow(img)\n",
    "        plt.title(f'Label: {label}')\n",
    "        plt.axis('off')\n",
    "    \n",
    "    plt.show()\n",
    "\n",
    "# Visualize some images from the training set\n",
    "print(\"Visualizing Training Images:\")\n",
    "visualize_images(image_paths, labels, num_images=5)"
   ]
  },
  {
   "cell_type": "markdown",
   "id": "ff10d9ee",
   "metadata": {},
   "source": [
    "### Training and testing of AlexNet Model"
   ]
  },
  {
   "cell_type": "code",
   "execution_count": 14,
   "id": "e40f2eba",
   "metadata": {},
   "outputs": [],
   "source": [
    "\n",
    "# Step 1: Prepare the data\n",
    "def load_data(image_paths, labels, target_size=(224, 224)):\n",
    "    images = []\n",
    "    for img_path in image_paths:\n",
    "        img = Image.open(img_path).convert(\"RGB\")\n",
    "        img = img.resize(target_size)\n",
    "        img = np.array(img)\n",
    "        images.append(img)\n",
    "    images = np.array(images)\n",
    "    labels = np.array(labels)\n",
    "    return images, labels\n"
   ]
  },
  {
   "cell_type": "code",
   "execution_count": 15,
   "id": "afaf0179",
   "metadata": {},
   "outputs": [],
   "source": [
    "# Load and preprocess data\n",
    "train_image_paths, test_image_paths, train_labels, test_labels = train_test_split(\n",
    "    image_paths, labels, test_size=0.1, random_state=42)\n"
   ]
  },
  {
   "cell_type": "code",
   "execution_count": 33,
   "id": "6fa25e9d",
   "metadata": {},
   "outputs": [
    {
     "ename": "MemoryError",
     "evalue": "Unable to allocate 2.93 GiB for an array with shape (2613, 224, 224, 3) and data type float64",
     "output_type": "error",
     "traceback": [
      "\u001b[1;31m---------------------------------------------------------------------------\u001b[0m",
      "\u001b[1;31mMemoryError\u001b[0m                               Traceback (most recent call last)",
      "Cell \u001b[1;32mIn[33], line 5\u001b[0m\n\u001b[0;32m      2\u001b[0m X_test, y_test \u001b[38;5;241m=\u001b[39m load_data(test_image_paths, test_labels)\n\u001b[0;32m      4\u001b[0m \u001b[38;5;66;03m# Normalize the images\u001b[39;00m\n\u001b[1;32m----> 5\u001b[0m X_train \u001b[38;5;241m=\u001b[39m \u001b[43mX_train\u001b[49m\u001b[43m \u001b[49m\u001b[38;5;241;43m/\u001b[39;49m\u001b[43m \u001b[49m\u001b[38;5;241;43m255.0\u001b[39;49m\n\u001b[0;32m      6\u001b[0m X_test \u001b[38;5;241m=\u001b[39m X_test \u001b[38;5;241m/\u001b[39m \u001b[38;5;241m255.0\u001b[39m\n",
      "\u001b[1;31mMemoryError\u001b[0m: Unable to allocate 2.93 GiB for an array with shape (2613, 224, 224, 3) and data type float64"
     ]
    }
   ],
   "source": [
    "X_train, y_train = load_data(train_image_paths, train_labels)\n",
    "X_test, y_test = load_data(test_image_paths, test_labels)\n",
    "\n",
    "# Normalize the images\n",
    "X_train = X_train / 255.0\n",
    "X_test = X_test / 255.0"
   ]
  },
  {
   "cell_type": "code",
   "execution_count": 19,
   "id": "c86bd611",
   "metadata": {},
   "outputs": [
    {
     "data": {
      "text/plain": [
       "array(['Stationary_Bicycle', 'Stationary_Bicycle', 'Stationary_Bicycle',\n",
       "       ..., 'Stationary_Bicycle', 'Stationary_Bicycle',\n",
       "       'Stationary_Bicycle'], dtype='<U19')"
      ]
     },
     "execution_count": 19,
     "metadata": {},
     "output_type": "execute_result"
    }
   ],
   "source": [
    "y_train"
   ]
  },
  {
   "cell_type": "code",
   "execution_count": 28,
   "id": "81e41fdd",
   "metadata": {},
   "outputs": [
    {
     "name": "stdout",
     "output_type": "stream",
     "text": [
      "One-hot encoded y_train:\n",
      "[[1. 0. 0. 0. 0. 0. 0.]\n",
      " [0. 1. 0. 0. 0. 0. 0.]\n",
      " [0. 0. 1. 0. 0. 0. 0.]\n",
      " [0. 0. 0. 1. 0. 0. 0.]\n",
      " [0. 0. 0. 0. 1. 0. 0.]\n",
      " [0. 0. 0. 0. 0. 1. 0.]\n",
      " [0. 0. 0. 0. 0. 0. 1.]]\n",
      "One-hot encoded y_test:\n",
      "[[1. 0. 0. 0. 0. 0. 0.]\n",
      " [0. 1. 0. 0. 0. 0. 0.]\n",
      " [0. 0. 1. 0. 0. 0. 0.]\n",
      " [0. 0. 0. 1. 0. 0. 0.]\n",
      " [0. 0. 0. 0. 1. 0. 0.]\n",
      " [0. 0. 0. 0. 0. 1. 0.]\n",
      " [0. 0. 0. 0. 0. 0. 1.]]\n"
     ]
    }
   ],
   "source": [
    "y_train = np.unique(y_train)\n",
    "y_test =np.unique(y_test)\n",
    "\n",
    "# Initialize LabelEncoder\n",
    "label_encoder = LabelEncoder()\n",
    "\n",
    "# Fit and transform training labels\n",
    "y_train_encoded = label_encoder.fit_transform(y_train)\n",
    "y_test_encoded = label_encoder.transform(y_test)\n",
    "\n",
    "# Convert integer labels to one-hot encoding\n",
    "num_classes = len(label_encoder.classes_)  # Number of unique classes\n",
    "y_train_one_hot = tf.keras.utils.to_categorical(y_train_encoded, num_classes=num_classes)\n",
    "y_test_one_hot = tf.keras.utils.to_categorical(y_test_encoded, num_classes=num_classes)\n",
    "\n",
    "print(\"One-hot encoded y_train:\")\n",
    "print(y_train_one_hot)\n",
    "print(\"One-hot encoded y_test:\")\n",
    "print(y_test_one_hot)"
   ]
  },
  {
   "cell_type": "code",
   "execution_count": 29,
   "id": "dc12bd1f",
   "metadata": {},
   "outputs": [
    {
     "data": {
      "text/plain": [
       "2"
      ]
     },
     "execution_count": 29,
     "metadata": {},
     "output_type": "execute_result"
    }
   ],
   "source": [
    "len(set(labels))"
   ]
  },
  {
   "cell_type": "code",
   "execution_count": 32,
   "id": "7edc2ca3",
   "metadata": {},
   "outputs": [
    {
     "ename": "ValueError",
     "evalue": "Data cardinality is ambiguous:\n  x sizes: 100\n  y sizes: 7\nMake sure all arrays contain the same number of samples.",
     "output_type": "error",
     "traceback": [
      "\u001b[1;31m---------------------------------------------------------------------------\u001b[0m",
      "\u001b[1;31mValueError\u001b[0m                                Traceback (most recent call last)",
      "Cell \u001b[1;32mIn[32], line 43\u001b[0m\n\u001b[0;32m     40\u001b[0m X_test_subset \u001b[38;5;241m=\u001b[39m X_test[:subset_size]\n\u001b[0;32m     41\u001b[0m y_test_subset \u001b[38;5;241m=\u001b[39m y_test[:subset_size]\n\u001b[1;32m---> 43\u001b[0m history \u001b[38;5;241m=\u001b[39m \u001b[43mmodel\u001b[49m\u001b[38;5;241;43m.\u001b[39;49m\u001b[43mfit\u001b[49m\u001b[43m(\u001b[49m\u001b[43mX_train_subset\u001b[49m\u001b[43m,\u001b[49m\u001b[43m \u001b[49m\u001b[43my_train_subset\u001b[49m\u001b[43m,\u001b[49m\u001b[43m \u001b[49m\u001b[43mepochs\u001b[49m\u001b[38;5;241;43m=\u001b[39;49m\u001b[43mnum_epochs\u001b[49m\u001b[43m,\u001b[49m\u001b[43m \u001b[49m\u001b[43mbatch_size\u001b[49m\u001b[38;5;241;43m=\u001b[39;49m\u001b[43mbatch_size\u001b[49m\u001b[43m,\u001b[49m\u001b[43m \u001b[49m\u001b[43mvalidation_data\u001b[49m\u001b[38;5;241;43m=\u001b[39;49m\u001b[43m(\u001b[49m\u001b[43mX_test_subset\u001b[49m\u001b[43m,\u001b[49m\u001b[43m \u001b[49m\u001b[43my_test_subset\u001b[49m\u001b[43m)\u001b[49m\u001b[43m)\u001b[49m\n\u001b[0;32m     46\u001b[0m \u001b[38;5;66;03m# history = model.fit(X_train, y_train, epochs=num_epochs, batch_size=batch_size, \u001b[39;00m\n\u001b[0;32m     47\u001b[0m \u001b[38;5;66;03m#                     validation_data=(X_test, y_test))\u001b[39;00m\n\u001b[0;32m     48\u001b[0m \n\u001b[0;32m     49\u001b[0m \u001b[38;5;66;03m# Step 4: Test the model\u001b[39;00m\n\u001b[0;32m     50\u001b[0m test_loss, test_accuracy \u001b[38;5;241m=\u001b[39m model\u001b[38;5;241m.\u001b[39mevaluate(X_test, y_test)\n",
      "File \u001b[1;32m~\\anaconda3\\envs\\tf\\lib\\site-packages\\keras\\utils\\traceback_utils.py:70\u001b[0m, in \u001b[0;36mfilter_traceback.<locals>.error_handler\u001b[1;34m(*args, **kwargs)\u001b[0m\n\u001b[0;32m     67\u001b[0m     filtered_tb \u001b[38;5;241m=\u001b[39m _process_traceback_frames(e\u001b[38;5;241m.\u001b[39m__traceback__)\n\u001b[0;32m     68\u001b[0m     \u001b[38;5;66;03m# To get the full stack trace, call:\u001b[39;00m\n\u001b[0;32m     69\u001b[0m     \u001b[38;5;66;03m# `tf.debugging.disable_traceback_filtering()`\u001b[39;00m\n\u001b[1;32m---> 70\u001b[0m     \u001b[38;5;28;01mraise\u001b[39;00m e\u001b[38;5;241m.\u001b[39mwith_traceback(filtered_tb) \u001b[38;5;28;01mfrom\u001b[39;00m \u001b[38;5;28mNone\u001b[39m\n\u001b[0;32m     71\u001b[0m \u001b[38;5;28;01mfinally\u001b[39;00m:\n\u001b[0;32m     72\u001b[0m     \u001b[38;5;28;01mdel\u001b[39;00m filtered_tb\n",
      "File \u001b[1;32m~\\anaconda3\\envs\\tf\\lib\\site-packages\\keras\\engine\\data_adapter.py:1848\u001b[0m, in \u001b[0;36m_check_data_cardinality\u001b[1;34m(data)\u001b[0m\n\u001b[0;32m   1841\u001b[0m     msg \u001b[38;5;241m+\u001b[39m\u001b[38;5;241m=\u001b[39m \u001b[38;5;124m\"\u001b[39m\u001b[38;5;124m  \u001b[39m\u001b[38;5;132;01m{}\u001b[39;00m\u001b[38;5;124m sizes: \u001b[39m\u001b[38;5;132;01m{}\u001b[39;00m\u001b[38;5;130;01m\\n\u001b[39;00m\u001b[38;5;124m\"\u001b[39m\u001b[38;5;241m.\u001b[39mformat(\n\u001b[0;32m   1842\u001b[0m         label,\n\u001b[0;32m   1843\u001b[0m         \u001b[38;5;124m\"\u001b[39m\u001b[38;5;124m, \u001b[39m\u001b[38;5;124m\"\u001b[39m\u001b[38;5;241m.\u001b[39mjoin(\n\u001b[0;32m   1844\u001b[0m             \u001b[38;5;28mstr\u001b[39m(i\u001b[38;5;241m.\u001b[39mshape[\u001b[38;5;241m0\u001b[39m]) \u001b[38;5;28;01mfor\u001b[39;00m i \u001b[38;5;129;01min\u001b[39;00m tf\u001b[38;5;241m.\u001b[39mnest\u001b[38;5;241m.\u001b[39mflatten(single_data)\n\u001b[0;32m   1845\u001b[0m         ),\n\u001b[0;32m   1846\u001b[0m     )\n\u001b[0;32m   1847\u001b[0m msg \u001b[38;5;241m+\u001b[39m\u001b[38;5;241m=\u001b[39m \u001b[38;5;124m\"\u001b[39m\u001b[38;5;124mMake sure all arrays contain the same number of samples.\u001b[39m\u001b[38;5;124m\"\u001b[39m\n\u001b[1;32m-> 1848\u001b[0m \u001b[38;5;28;01mraise\u001b[39;00m \u001b[38;5;167;01mValueError\u001b[39;00m(msg)\n",
      "\u001b[1;31mValueError\u001b[0m: Data cardinality is ambiguous:\n  x sizes: 100\n  y sizes: 7\nMake sure all arrays contain the same number of samples."
     ]
    }
   ],
   "source": [
    "# Step 2: Define the AlexNet model\n",
    "def AlexNet(input_shape, num_classes):\n",
    "    model = models.Sequential([\n",
    "        layers.Conv2D(96, (11, 11), strides=4, padding='same', activation='relu', input_shape=input_shape),\n",
    "        layers.MaxPooling2D((3, 3), strides=2),\n",
    "        \n",
    "        layers.Conv2D(256, (5, 5), padding='same', activation='relu'),\n",
    "        layers.MaxPooling2D((3, 3), strides=2),\n",
    "        \n",
    "        layers.Conv2D(384, (3, 3), padding='same', activation='relu'),\n",
    "        layers.Conv2D(384, (3, 3), padding='same', activation='relu'),\n",
    "        layers.Conv2D(256, (3, 3), padding='same', activation='relu'),\n",
    "        layers.MaxPooling2D((3, 3), strides=2),\n",
    "        \n",
    "        layers.Flatten(),\n",
    "        layers.Dense(4096, activation='relu'),\n",
    "        layers.Dropout(0.5),\n",
    "        layers.Dense(4096, activation='relu'),\n",
    "        layers.Dropout(0.5),\n",
    "        layers.Dense(num_classes, activation='softmax')\n",
    "    ])\n",
    "    \n",
    "    return model\n",
    "\n",
    "model = AlexNet(input_shape=(224, 224, 3), num_classes=len(set(labels)))\n",
    "\n",
    "# Compile the model\n",
    "model.compile(optimizer=optimizers.Adam(learning_rate=0.01),\n",
    "              loss='categorical_crossentropy',\n",
    "              metrics=['accuracy'])\n",
    "\n",
    "# Step 3: Train the model\n",
    "num_epochs = 2\n",
    "batch_size = 3\n",
    "\n",
    "# Use only a fraction of the data for testing\n",
    "subset_size = 100  # Adjust as needed\n",
    "X_train_subset = X_train[:subset_size]\n",
    "y_train_subset = y_train[:subset_size]\n",
    "X_test_subset = X_test[:subset_size]\n",
    "y_test_subset = y_test[:subset_size]\n",
    "\n",
    "history = model.fit(X_train_subset, y_train_subset, epochs=num_epochs, batch_size=batch_size, validation_data=(X_test_subset, y_test_subset))\n",
    "\n",
    "\n",
    "# history = model.fit(X_train, y_train, epochs=num_epochs, batch_size=batch_size, \n",
    "#                     validation_data=(X_test, y_test))\n",
    "\n",
    "# Step 4: Test the model\n",
    "test_loss, test_accuracy = model.evaluate(X_test, y_test)\n",
    "print(f'Test Accuracy: {test_accuracy * 100:.2f}%')\n",
    "\n",
    "# Step 5: Plot accuracy vs. epoch and loss vs. epoch\n",
    "# Plot training & validation accuracy values\n",
    "plt.figure(figsize=(14, 7))\n",
    "plt.subplot(1, 2, 1)\n",
    "plt.plot(history.history['accuracy'], 'b', label='Training Accuracy')\n",
    "plt.plot(history.history['val_accuracy'], 'r', label='Validation Accuracy')\n",
    "plt.xlabel('Epoch')\n",
    "plt.ylabel('Accuracy')\n",
    "plt.legend()\n",
    "plt.title('Accuracy vs. Epoch')\n",
    "\n",
    "# Plot training & validation loss values\n",
    "plt.subplot(1, 2, 2)\n",
    "plt.plot(history.history['loss'], 'b', label='Training Loss')\n",
    "plt.plot(history.history['val_loss'], 'r', label='Validation Loss')\n",
    "plt.xlabel('Epoch')\n",
    "plt.ylabel('Loss')\n",
    "plt.legend()\n",
    "plt.title('Loss vs. Epoch')\n",
    "\n",
    "plt.show()\n"
   ]
  },
  {
   "cell_type": "code",
   "execution_count": null,
   "id": "c3e32dcc",
   "metadata": {},
   "outputs": [],
   "source": []
  }
 ],
 "metadata": {
  "kernelspec": {
   "display_name": "Python 3 (ipykernel)",
   "language": "python",
   "name": "python3"
  },
  "language_info": {
   "codemirror_mode": {
    "name": "ipython",
    "version": 3
   },
   "file_extension": ".py",
   "mimetype": "text/x-python",
   "name": "python",
   "nbconvert_exporter": "python",
   "pygments_lexer": "ipython3",
   "version": "3.8.15"
  }
 },
 "nbformat": 4,
 "nbformat_minor": 5
}
